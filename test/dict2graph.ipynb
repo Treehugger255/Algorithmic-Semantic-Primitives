{
 "cells": [
  {
   "cell_type": "code",
   "execution_count": 6,
   "metadata": {},
   "outputs": [],
   "source": [
    "import rustworkx as rx\n",
    "import stanza\n",
    "import stopwords\n",
    "from tqdm import tqdm"
   ]
  },
  {
   "cell_type": "code",
   "execution_count": 2,
   "metadata": {},
   "outputs": [],
   "source": [
    "# Uncomment the line below if you have not downloaded this yet\n",
    "# stanza.download('en')"
   ]
  },
  {
   "cell_type": "code",
   "execution_count": 7,
   "metadata": {},
   "outputs": [
    {
     "name": "stderr",
     "output_type": "stream",
     "text": [
      "100%|██████████| 3/3 [00:00<00:00, 19.73it/s]\n"
     ]
    },
    {
     "data": {
      "text/plain": [
       "{'bank': [['financial',\n",
       "   'institution',\n",
       "   'accept',\n",
       "   'deposit',\n",
       "   'channel',\n",
       "   'money',\n",
       "   'lending',\n",
       "   'activity'],\n",
       "  ['slope',\n",
       "   'land',\n",
       "   '(',\n",
       "   'especially',\n",
       "   'slope',\n",
       "   'beside',\n",
       "   'body',\n",
       "   'water',\n",
       "   ')']],\n",
       " 'bee': [['insect', 'produce', 'honey']],\n",
       " 'honey': [['substance', 'produce', 'bee']]}"
      ]
     },
     "execution_count": 7,
     "metadata": {},
     "output_type": "execute_result"
    }
   ],
   "source": [
    "# Toy dictionary, inspired by examples in Kostiuk (2023). Keys are words, values are lists of definitions\n",
    "dictionary: dict[str, list[str]] = {\n",
    "    \"bank\" : [\"financial institution that accepts deposits and channels the money into lending activities\", \"sloping land (especially the slope beside a body of water)\"],\n",
    "    \"bee\" : [\"an insect that produces honey\"],\n",
    "    \"honey\" : [\"a substance produced by bees\"]\n",
    "}\n",
    "\n",
    "# Lemmatize dictionary and remove stopwords\n",
    "nlp = stanza.Pipeline(lang='en', processors=\"tokenize,mwt,pos,lemma\", logging_level='WARN')\n",
    "sw = stopwords.get_stopwords('en')\n",
    "\n",
    "for word in tqdm(dictionary):\n",
    "    definitions = dictionary[word]\n",
    "    for i in range(len(definitions)):\n",
    "        defn_info = nlp(definitions[i])\n",
    "        definitions[i] = [word.lemma for sent in defn_info.sentences for word in sent.words if word.lemma not in sw]\n",
    "\n",
    "dictionary"
   ]
  },
  {
   "cell_type": "code",
   "execution_count": 25,
   "metadata": {},
   "outputs": [],
   "source": [
    "check_cycle = True # IMPORTANT: If set to True, throws a DAGWouldCycle error whenever adding an edge would create a cycle (and does not add the edge). Cycles created otherwise.\n",
    "digraph = rx.PyDiGraph(check_cycle=check_cycle, multigraph=False) # I think we shouldn't allow for multigraphs... I don't see why a word should point to a word in its definition more than once\n",
    "\n",
    "# Question: If a word doesn't have a definition: wouldn't it be a good idea to consider it a semantic prime?\n",
    "\n",
    "# Step 1: Every entry of the dictionary is a node\n",
    "digraph.add_nodes_from(list(dictionary.keys())) \n",
    "\n",
    "from rustworkx import DAGWouldCycle\n",
    "# Step 2: Add edges between word and each word in its definitions only if the words in their definitions are already nodes (i.e. they were already in the dictionary)\n",
    "nodes = digraph.nodes()\n",
    "for node in nodes:\n",
    "    definitions = dictionary[node]\n",
    "    # ugly nested loop, wish there was a way around this\n",
    "    for definition in definitions:\n",
    "        for word in definition:\n",
    "            if word in nodes:\n",
    "                try:\n",
    "                    digraph.add_edges_from([(nodes.index(node), nodes.index(word), tuple)])\n",
    "                except DAGWouldCycle:\n",
    "                    ... # TODO: possibly add to list of possible semantic primes?"
   ]
  },
  {
   "cell_type": "code",
   "execution_count": 27,
   "metadata": {},
   "outputs": [
    {
     "data": {
      "image/png": "[encoded data removed]",
      "text/plain": [
       "<Figure size 640x480 with 1 Axes>"
      ]
     },
     "metadata": {},
     "output_type": "display_data"
    }
   ],
   "source": [
    "# Visualization\n",
    "import matplotlib.pyplot as plt\n",
    "from rustworkx.visualization import mpl_draw\n",
    "\n",
    "mpl_draw(digraph)"
   ]
  }
 ],
 "metadata": {
  "kernelspec": {
   "display_name": "base",
   "language": "python",
   "name": "python3"
  },
  "language_info": {
   "codemirror_mode": {
    "name": "ipython",
    "version": 3
   },
   "file_extension": ".py",
   "mimetype": "text/x-python",
   "name": "python",
   "nbconvert_exporter": "python",
   "pygments_lexer": "ipython3",
   "version": "3.12.3"
  }
 },
 "nbformat": 4,
 "nbformat_minor": 2
}
